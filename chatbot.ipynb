{
  "nbformat": 4,
  "nbformat_minor": 0,
  "metadata": {
    "colab": {
      "provenance": [],
      "authorship_tag": "ABX9TyMwuyUVfbMoIs9acYPNB96C",
      "include_colab_link": true
    },
    "kernelspec": {
      "name": "python3",
      "display_name": "Python 3"
    },
    "language_info": {
      "name": "python"
    }
  },
  "cells": [
    {
      "cell_type": "markdown",
      "metadata": {
        "id": "view-in-github",
        "colab_type": "text"
      },
      "source": [
        "<a href=\"https://colab.research.google.com/github/Sujata005/discord/blob/master/chatbot.ipynb\" target=\"_parent\"><img src=\"https://colab.research.google.com/assets/colab-badge.svg\" alt=\"Open In Colab\"/></a>"
      ]
    },
    {
      "cell_type": "code",
      "source": [
        "from google.colab import drive\n",
        "drive.mount('/content/drive/')"
      ],
      "metadata": {
        "id": "zOiNDcmSU7y4"
      },
      "execution_count": null,
      "outputs": []
    },
    {
      "cell_type": "code",
      "source": [
        "import os\n",
        "os.chdir(\"/content/drive/My Drive\")"
      ],
      "metadata": {
        "id": "mv3L0SgoVXW_"
      },
      "execution_count": null,
      "outputs": []
    },
    {
      "cell_type": "code",
      "source": [
        "from google.colab import files\n",
        "uploaded = files.upload()"
      ],
      "metadata": {
        "id": "BG0gO3H-UeqC"
      },
      "execution_count": null,
      "outputs": []
    },
    {
      "cell_type": "code",
      "source": [
        "data=next(iter(uploaded.values()))\n",
        "type(data)"
      ],
      "metadata": {
        "id": "ARqMRCBaWF-T"
      },
      "execution_count": null,
      "outputs": []
    },
    {
      "cell_type": "code",
      "execution_count": null,
      "metadata": {
        "id": "-E_GY-lHP-WP"
      },
      "outputs": [],
      "source": [
        "import json\n",
        "import pickle\n",
        "import random\n",
        "import nltk\n",
        "import numpy as np\n",
        "from nltk.stem import WordNetLemmatizer  # stem down the word for example works,working, work etc\n",
        "\n",
        "from tensorflow.keras.models import load_model\n",
        "\n",
        "\n",
        "lemmatizer=WordNetLemmatizer()\n",
        "intents= json.loads(data.decode())\n",
        "\n",
        "words=pickle.load(open('words.pkl', 'rb'))\n",
        "classes=pickle.load(open('classes.pkl', 'rb'))\n",
        "model=load_model(('chatbot_model.model'))\n",
        "\n",
        "def _clean_up_sentence(sentence):\n",
        "  sentence_words = nltk.word_tokenize(sentence)\n",
        "  sentence_words = [lemmatizer.lemmatize(word.lower()) for word in sentence_words]\n",
        "  return sentence_words\n",
        "\n",
        "def _bag_of_words(sentence, words):\n",
        "        sentence_words =clean_up_sentence(sentence)\n",
        "        bag = [0] * len(words)\n",
        "        for s in sentence_words:\n",
        "            for i, word in enumerate(words):\n",
        "                if word == s:\n",
        "                    bag[i] = 1\n",
        "        return np.array(bag)\n",
        "\n",
        "def _predict_class(sentence):\n",
        "        bow = bag_of_words(sentence)\n",
        "        res = model.predict(np.array([bow]))[0]\n",
        "        ERROR_THRESHOLD = 0.25\n",
        "        results = [[i, r] for i, r in enumerate(res) if r > ERROR_THRESHOLD]\n",
        "\n",
        "        results.sort(key=lambda x: x[1], reverse=True)\n",
        "        return_list = []\n",
        "        for r in results:\n",
        "            return_list.append({'intent':classes[r[0]], 'probability': str(r[1])})\n",
        "        return return_list\n",
        "\n",
        "def _get_response(intent_list, intents_json):\n",
        "  tag = ints[0]['intent']\n",
        "  list_of_intents = intents_json['intents']\n",
        "  for i in list_of_intents:\n",
        "    if i['tag']  == tag:\n",
        "      result = random.choice(i['responses'])\n",
        "      break\n",
        "  return result\n",
        "\n",
        "print('Welcome')"
      ]
    }
  ]
}