{
  "nbformat": 4,
  "nbformat_minor": 0,
  "metadata": {
    "colab": {
      "provenance": [],
      "authorship_tag": "ABX9TyNXI69imf0I/hEklpDaWWBg",
      "include_colab_link": true
    },
    "kernelspec": {
      "name": "python3",
      "display_name": "Python 3"
    },
    "language_info": {
      "name": "python"
    }
  },
  "cells": [
    {
      "cell_type": "markdown",
      "metadata": {
        "id": "view-in-github",
        "colab_type": "text"
      },
      "source": [
        "<a href=\"https://colab.research.google.com/github/Sujata005/discord/blob/master/main.ipynb\" target=\"_parent\"><img src=\"https://colab.research.google.com/assets/colab-badge.svg\" alt=\"Open In Colab\"/></a>"
      ]
    },
    {
      "cell_type": "code",
      "source": [
        "!pip install discord"
      ],
      "metadata": {
        "id": "3dsOnBzHkXjG"
      },
      "execution_count": null,
      "outputs": []
    },
    {
      "cell_type": "code",
      "source": [
        "!pip install python-dotenv"
      ],
      "metadata": {
        "id": "MZRJqmMapTkE"
      },
      "execution_count": null,
      "outputs": []
    },
    {
      "cell_type": "code",
      "source": [
        "!pip install neuralintents"
      ],
      "metadata": {
        "id": "6EDMh3rOqSL2"
      },
      "execution_count": null,
      "outputs": []
    },
    {
      "cell_type": "code",
      "source": [
        "from google.colab import drive\n",
        "drive.mount('/content/drive/')"
      ],
      "metadata": {
        "id": "QiAOWInvqiaC"
      },
      "execution_count": null,
      "outputs": []
    },
    {
      "cell_type": "code",
      "source": [
        "import os\n",
        "os.chdir(\"/content/drive/My Drive\")"
      ],
      "metadata": {
        "id": "kZxq5jznqmy3"
      },
      "execution_count": null,
      "outputs": []
    },
    {
      "cell_type": "code",
      "source": [
        "from google.colab import files\n",
        "uploaded = files.upload()"
      ],
      "metadata": {
        "id": "NkbojijFqxOg"
      },
      "execution_count": null,
      "outputs": []
    },
    {
      "cell_type": "code",
      "source": [
        "import json\n",
        "data=next(iter(uploaded.values()))\n",
        "type(data)"
      ],
      "metadata": {
        "id": "Eiew8e0Dq0sx"
      },
      "execution_count": null,
      "outputs": []
    },
    {
      "cell_type": "code",
      "source": [
        "import nltk\n",
        "nltk.download('omw-1.4')"
      ],
      "metadata": {
        "id": "tiY7HCdktc5U"
      },
      "execution_count": null,
      "outputs": []
    },
    {
      "cell_type": "code",
      "source": [
        "import nltk\n",
        "nltk.download('omw-1.4')"
      ],
      "metadata": {
        "id": "PqfspibRti9i"
      },
      "execution_count": null,
      "outputs": []
    },
    {
      "cell_type": "code",
      "source": [
        "!pip install nest_asyncio"
      ],
      "metadata": {
        "id": "utN7D9Dktvt8"
      },
      "execution_count": null,
      "outputs": []
    },
    {
      "cell_type": "code",
      "execution_count": null,
      "metadata": {
        "id": "V_DfkjcSjiMC"
      },
      "outputs": [],
      "source": [
        "import discord #importing discord\n",
        "import os\n",
        "from dotenv import load_dotenv\n",
        "from neuralintents import GenericAssistant\n",
        "\n",
        "import asyncio\n",
        "import nest_asyncio\n",
        "nest_asyncio.apply()\n",
        "\n",
        "import random       #just a lib to get get random number from a specific range\n",
        "\n",
        "intent=discord.Intents.default()\n",
        "intent.members=True\n",
        "intent.message_content=True\n",
        "\n",
        "load_dotenv()\n",
        "TOKEN='Fake Token 121212 For safety'     #we get the token while building bot in discord devloper portal\n",
        "intents= json.loads(data.decode())\n",
        "chatbot= GenericAssistant('intents.json')\n",
        "chatbot.train_model()\n",
        "chatbot.save_model()\n",
        "client=discord.Client(intents=intent)\n",
        "\n",
        "@client.event\n",
        "async def on_ready():\n",
        "    print('we have logged in as {0.user}'.format(client))           #login to the bot\n",
        "\n",
        "@client.event\n",
        "async def on_message(message):\n",
        "      if message.author ==client.user:\n",
        "        return\n",
        "      \n",
        "      if message.content.startswith('bean'):\n",
        "        response=chatbot.request(message.content[7:])\n",
        "        await message.channel.send(response)\n",
        "\n",
        "client.run(TOKEN)"
      ]
    }
  ]
}
